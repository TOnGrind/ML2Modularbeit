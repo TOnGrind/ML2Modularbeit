{
 "cells": [
  {
   "cell_type": "code",
   "execution_count": null,
   "id": "07e5eae4",
   "metadata": {},
   "outputs": [],
   "source": []
  },
  {
   "cell_type": "code",
   "execution_count": null,
   "id": "f4fcfde7",
   "metadata": {},
   "outputs": [],
   "source": []
  },
  {
   "cell_type": "code",
   "execution_count": 13,
   "id": "74136a19",
   "metadata": {},
   "outputs": [],
   "source": [
    "import torch\n",
    "import torch.nn as nn\n",
    "import torch.nn.functional as F\n",
    "import optuna\n",
    "from torch.utils.data import TensorDataset\n",
    "from torch.utils.data import DataLoader\n",
    "from Klassifikator import get_objective, ResNet18, EarlyStopping"
   ]
  },
  {
   "cell_type": "code",
   "execution_count": 14,
   "id": "8ca88a98",
   "metadata": {},
   "outputs": [],
   "source": [
    "class TypeClassifier(nn.Module):\n",
    "    def __init__(self):\n",
    "        super().__init__()\n",
    "        self.features = nn.Sequential(\n",
    "            nn.Conv2d(1, 32, 3, padding=1),  # EMNIST ist grau (1 Kanal)\n",
    "            nn.ReLU(),\n",
    "            nn.MaxPool2d(2),\n",
    "            nn.Conv2d(32, 64, 3, padding=1),\n",
    "            nn.ReLU(),\n",
    "            nn.MaxPool2d(2)\n",
    "        )\n",
    "        self.classifier = nn.Sequential(\n",
    "            nn.Flatten(),\n",
    "            nn.Linear(64 * 7 * 7, 128),\n",
    "            nn.ReLU(),\n",
    "            nn.Dropout(0.3),\n",
    "            nn.Linear(128, 3)  # 3 Typen\n",
    "        )\n",
    "\n",
    "    def forward(self, x):\n",
    "        x = self.features(x)\n",
    "        return self.classifier(x)"
   ]
  },
  {
   "cell_type": "code",
   "execution_count": 15,
   "id": "9a7f66d1",
   "metadata": {},
   "outputs": [],
   "source": [
    "class ModularClassifier(nn.Module):\n",
    "    def __init__(self, tm1, tm2, class_type_map):\n",
    "        super().__init__()\n",
    "        self.tm1 = tm1\n",
    "        self.tm2 = tm2\n",
    "        self.class_type_map = torch.tensor(class_type_map, dtype=torch.long)\n",
    "\n",
    "    def forward(self, x):\n",
    "        out_cls = self.tm1(x)  # (B, 36)\n",
    "        out_type = self.tm2(x)  # (B, 3)\n",
    "\n",
    "        # Umwandlung der Typklassenzuordnung pro Klasse (36 Klassen → 3 Typen)\n",
    "        class_type_weights = out_type[:, self.class_type_map.to(x.device)]  # (B, 36)\n",
    "\n",
    "        # Kombination der Outputs (elementweise Multiplikation)\n",
    "        final_out = out_cls * class_type_weights\n",
    "\n",
    "        return final_out, out_cls, out_type\n"
   ]
  },
  {
   "cell_type": "code",
   "execution_count": 16,
   "id": "71ac3afa",
   "metadata": {},
   "outputs": [],
   "source": [
    "import torch\n",
    "import torch.nn as nn\n",
    "import torch.nn.functional as F\n",
    "\n",
    "class TypeClassifier(nn.Module):\n",
    "    def __init__(self):\n",
    "        super(TypeClassifier, self).__init__()\n",
    "        self.conv_layers = nn.Sequential(\n",
    "            nn.Conv2d(1, 32, kernel_size=3, padding=1),\n",
    "            nn.ReLU(),\n",
    "            nn.MaxPool2d(2),\n",
    "\n",
    "            nn.Conv2d(32, 64, kernel_size=3, padding=1),\n",
    "            nn.ReLU(),\n",
    "            nn.MaxPool2d(2)\n",
    "        )\n",
    "\n",
    "        self.fc_layers = nn.Sequential(\n",
    "            nn.Flatten(),\n",
    "            nn.Linear(64 * 7 * 7, 128),\n",
    "            nn.ReLU(),\n",
    "            nn.Dropout(0.3),\n",
    "            nn.Linear(128, 3)  # 3 Typen: Großbuchstabe, Kleinbuchstabe, Zahl\n",
    "        )\n",
    "\n",
    "    def forward(self, x):\n",
    "        x = self.conv_layers(x)\n",
    "        x = self.fc_layers(x)\n",
    "        return x\n"
   ]
  },
  {
   "cell_type": "code",
   "execution_count": 17,
   "id": "4466bcb3",
   "metadata": {},
   "outputs": [],
   "source": [
    "class ModularClassifier(nn.Module):\n",
    "    def __init__(self, tm1, tm2, class_type_map):\n",
    "        super(ModularClassifier, self).__init__()\n",
    "        self.tm1 = tm1  # z.B. ResNet18\n",
    "        self.tm2 = tm2  # TypeClassifier\n",
    "        self.class_type_map = torch.tensor(class_type_map, dtype=torch.long)\n",
    "\n",
    "    def forward(self, x):\n",
    "        out_cls = self.tm1(x)       # Shape: (B, 36)\n",
    "        out_type = self.tm2(x)      # Shape: (B, 3)\n",
    "\n",
    "        # class_type_map: (36,) → pro Klasse, welcher Typ (0, 1, 2)\n",
    "        class_type_weights = out_type[:, self.class_type_map.to(x.device)]  # Shape: (B, 36)\n",
    "\n",
    "        # Multipliziere Wahrscheinlichkeiten beider Module\n",
    "        final_out = out_cls * class_type_weights\n",
    "\n",
    "        return final_out, out_cls, out_type\n"
   ]
  },
  {
   "cell_type": "code",
   "execution_count": 18,
   "id": "22daa748",
   "metadata": {},
   "outputs": [],
   "source": [
    "from Klassifikator import ResNet18\n",
    "from Datensatz import get_emnist_test_train, show_random_samples"
   ]
  },
  {
   "cell_type": "code",
   "execution_count": 19,
   "id": "35d3ba41",
   "metadata": {},
   "outputs": [],
   "source": [
    "class_list = list('0123456789ABCDEFGHIJKLMabcdefghijklm')\n",
    "# 10 Zahlen, 13 Großbuchstaben, 13 Kleinbuchstaben\n",
    "class_type_map = [2]*10 + [0]*13 + [1]*13\n"
   ]
  },
  {
   "cell_type": "code",
   "execution_count": 20,
   "id": "f04e9318",
   "metadata": {},
   "outputs": [
    {
     "name": "stdout",
     "output_type": "stream",
     "text": [
      "Ziel-ASCII: [48, 49, 50, 51, 52, 53, 54, 55, 56, 57, 65, 66, 67, 68, 69, 70, 71, 72, 73, 74, 75, 76, 77, 97, 98, 99, 100, 101, 102, 103, 104, 105, 106, 107, 108, 109]\n",
      "Anzahl Zielklassen: 36\n",
      "⚠️ Klasse B: nur 3878 echte Bilder – augmentiere 2122 zusätzlich.\n",
      "⚠️ Klasse D: nur 4562 echte Bilder – augmentiere 1438 zusätzlich.\n",
      "⚠️ Klasse E: nur 4934 echte Bilder – augmentiere 1066 zusätzlich.\n",
      "⚠️ Klasse G: nur 2517 echte Bilder – augmentiere 3483 zusätzlich.\n",
      "⚠️ Klasse H: nur 3152 echte Bilder – augmentiere 2848 zusätzlich.\n",
      "⚠️ Klasse J: nur 3762 echte Bilder – augmentiere 2238 zusätzlich.\n",
      "⚠️ Klasse K: nur 2468 echte Bilder – augmentiere 3532 zusätzlich.\n",
      "⚠️ Klasse L: nur 5076 echte Bilder – augmentiere 924 zusätzlich.\n",
      "⚠️ Klasse b: nur 5159 echte Bilder – augmentiere 841 zusätzlich.\n",
      "⚠️ Klasse c: nur 2854 echte Bilder – augmentiere 3146 zusätzlich.\n",
      "⚠️ Klasse f: nur 2561 echte Bilder – augmentiere 3439 zusätzlich.\n",
      "⚠️ Klasse g: nur 3687 echte Bilder – augmentiere 2313 zusätzlich.\n",
      "⚠️ Klasse i: nur 2725 echte Bilder – augmentiere 3275 zusätzlich.\n",
      "⚠️ Klasse j: nur 1896 echte Bilder – augmentiere 4104 zusätzlich.\n",
      "⚠️ Klasse k: nur 2491 echte Bilder – augmentiere 3509 zusätzlich.\n",
      "⚠️ Klasse m: nur 2645 echte Bilder – augmentiere 3355 zusätzlich.\n",
      "✅ Trainingsdaten: torch.Size([180000, 1, 28, 28]) torch.Size([180000])\n",
      "✅ Testdaten: torch.Size([36000, 1, 28, 28]) torch.Size([36000])\n"
     ]
    }
   ],
   "source": [
    "X_train, y_train, X_test, y_test,class_list = get_emnist_test_train()"
   ]
  },
  {
   "cell_type": "code",
   "execution_count": null,
   "id": "6813a28a",
   "metadata": {},
   "outputs": [],
   "source": []
  },
  {
   "cell_type": "code",
   "execution_count": 21,
   "id": "f32f3e2c",
   "metadata": {},
   "outputs": [],
   "source": [
    "train_dataset = torch.utils.data.TensorDataset(X_train, y_train)\n",
    "test_dataset = torch.utils.data.TensorDataset(X_test, y_test)\n"
   ]
  },
  {
   "cell_type": "code",
   "execution_count": 22,
   "id": "dc50d219",
   "metadata": {},
   "outputs": [],
   "source": [
    "device = torch.device('cuda' if torch.cuda.is_available() else 'cpu')"
   ]
  },
  {
   "cell_type": "code",
   "execution_count": 23,
   "id": "57f3200d",
   "metadata": {},
   "outputs": [
    {
     "name": "stderr",
     "output_type": "stream",
     "text": [
      "[I 2025-06-22 16:11:11,579] A new study created in memory with name: no-name-9d01b06d-ac5a-4d42-96aa-d30ee8a978a8\n"
     ]
    },
    {
     "name": "stdout",
     "output_type": "stream",
     "text": [
      "📉 Epoch 1: Val Loss = 0.4245\n",
      "📉 Epoch 2: Val Loss = 0.3959\n",
      "📉 Epoch 3: Val Loss = 0.3810\n",
      "📉 Epoch 4: Val Loss = 0.3432\n",
      "📉 Epoch 5: Val Loss = 0.3443\n",
      "📉 Epoch 6: Val Loss = 0.3442\n",
      "📉 Epoch 7: Val Loss = 0.3330\n",
      "📉 Epoch 8: Val Loss = 0.3496\n",
      "📉 Epoch 9: Val Loss = 0.3533\n",
      "📉 Epoch 10: Val Loss = 0.3539\n",
      "⛔ Early Stopping in Epoch 11\n"
     ]
    },
    {
     "name": "stderr",
     "output_type": "stream",
     "text": [
      "[I 2025-06-22 16:20:16,195] Trial 0 finished with value: 0.8679722222222223 and parameters: {'batch_size': 128, 'lr': 0.040579030682126, 'momentum': 0.7425965082305384, 'step_size': 3, 'gamma': 0.6244501245492722}. Best is trial 0 with value: 0.8679722222222223.\n"
     ]
    },
    {
     "name": "stdout",
     "output_type": "stream",
     "text": [
      "⛔ Early Stopping in Epoch 1\n"
     ]
    },
    {
     "name": "stderr",
     "output_type": "stream",
     "text": [
      "[I 2025-06-22 16:21:48,748] Trial 1 finished with value: 0.8634722222222222 and parameters: {'batch_size': 64, 'lr': 0.009093430598994118, 'momentum': 0.7397987963092126, 'step_size': 4, 'gamma': 0.6603144242653538}. Best is trial 0 with value: 0.8679722222222223.\n"
     ]
    },
    {
     "name": "stdout",
     "output_type": "stream",
     "text": [
      "⛔ Early Stopping in Epoch 1\n"
     ]
    },
    {
     "name": "stderr",
     "output_type": "stream",
     "text": [
      "[I 2025-06-22 16:22:41,265] Trial 2 finished with value: 0.8675 and parameters: {'batch_size': 144, 'lr': 0.006645772687102967, 'momentum': 0.7543735624061234, 'step_size': 4, 'gamma': 0.5340814474045237}. Best is trial 0 with value: 0.8679722222222223.\n"
     ]
    },
    {
     "name": "stdout",
     "output_type": "stream",
     "text": [
      "⛔ Early Stopping in Epoch 1\n"
     ]
    },
    {
     "name": "stderr",
     "output_type": "stream",
     "text": [
      "[I 2025-06-22 16:23:22,713] Trial 3 finished with value: 0.8425833333333334 and parameters: {'batch_size': 256, 'lr': 0.06496921568765032, 'momentum': 0.668191100276775, 'step_size': 3, 'gamma': 0.9092608351798714}. Best is trial 0 with value: 0.8679722222222223.\n"
     ]
    },
    {
     "name": "stdout",
     "output_type": "stream",
     "text": [
      "⛔ Early Stopping in Epoch 1\n"
     ]
    },
    {
     "name": "stderr",
     "output_type": "stream",
     "text": [
      "[I 2025-06-22 16:24:04,374] Trial 4 finished with value: 0.8678611111111111 and parameters: {'batch_size': 256, 'lr': 0.000797260968302301, 'momentum': 0.713894109964008, 'step_size': 5, 'gamma': 0.6464724685427752}. Best is trial 0 with value: 0.8679722222222223.\n"
     ]
    },
    {
     "name": "stdout",
     "output_type": "stream",
     "text": [
      "⛔ Early Stopping in Epoch 1\n"
     ]
    },
    {
     "name": "stderr",
     "output_type": "stream",
     "text": [
      "[I 2025-06-22 16:25:36,612] Trial 5 finished with value: 0.8696666666666667 and parameters: {'batch_size': 64, 'lr': 0.001049641207297206, 'momentum': 0.7895692081325939, 'step_size': 4, 'gamma': 0.570302787565975}. Best is trial 5 with value: 0.8696666666666667.\n"
     ]
    },
    {
     "name": "stdout",
     "output_type": "stream",
     "text": [
      "⛔ Early Stopping in Epoch 1\n"
     ]
    },
    {
     "name": "stderr",
     "output_type": "stream",
     "text": [
      "[I 2025-06-22 16:26:44,038] Trial 6 finished with value: 0.8586944444444444 and parameters: {'batch_size': 64, 'lr': 0.010902958449754, 'momentum': 0.8665522012143789, 'step_size': 2, 'gamma': 0.6963465197349165}. Best is trial 5 with value: 0.8696666666666667.\n"
     ]
    },
    {
     "name": "stdout",
     "output_type": "stream",
     "text": [
      "⛔ Early Stopping in Epoch 1\n"
     ]
    },
    {
     "name": "stderr",
     "output_type": "stream",
     "text": [
      "[I 2025-06-22 16:27:05,160] Trial 7 finished with value: 0.8713333333333333 and parameters: {'batch_size': 128, 'lr': 0.00028009978765939763, 'momentum': 0.9170976033144169, 'step_size': 5, 'gamma': 0.7416154549172265}. Best is trial 7 with value: 0.8713333333333333.\n"
     ]
    },
    {
     "name": "stdout",
     "output_type": "stream",
     "text": [
      "⛔ Early Stopping in Epoch 1\n"
     ]
    },
    {
     "name": "stderr",
     "output_type": "stream",
     "text": [
      "[I 2025-06-22 16:27:21,267] Trial 8 finished with value: 0.8715555555555555 and parameters: {'batch_size': 256, 'lr': 0.001061419976981889, 'momentum': 0.7668524142972986, 'step_size': 5, 'gamma': 0.7181728886749222}. Best is trial 8 with value: 0.8715555555555555.\n"
     ]
    },
    {
     "name": "stdout",
     "output_type": "stream",
     "text": [
      "⛔ Early Stopping in Epoch 1\n"
     ]
    },
    {
     "name": "stderr",
     "output_type": "stream",
     "text": [
      "[I 2025-06-22 16:28:00,165] Trial 9 finished with value: 0.8566111111111111 and parameters: {'batch_size': 64, 'lr': 0.010631119177023904, 'momentum': 0.896906260117095, 'step_size': 5, 'gamma': 0.6130293108819309}. Best is trial 8 with value: 0.8715555555555555.\n"
     ]
    },
    {
     "name": "stdout",
     "output_type": "stream",
     "text": [
      "⛔ Early Stopping in Epoch 1\n"
     ]
    },
    {
     "name": "stderr",
     "output_type": "stream",
     "text": [
      "[I 2025-06-22 16:28:16,401] Trial 10 finished with value: 0.8621666666666666 and parameters: {'batch_size': 256, 'lr': 0.00016982073456239574, 'momentum': 0.6066200903687983, 'step_size': 2, 'gamma': 0.831578909190577}. Best is trial 8 with value: 0.8715555555555555.\n"
     ]
    },
    {
     "name": "stdout",
     "output_type": "stream",
     "text": [
      "⛔ Early Stopping in Epoch 1\n"
     ]
    },
    {
     "name": "stderr",
     "output_type": "stream",
     "text": [
      "[I 2025-06-22 16:28:37,517] Trial 11 finished with value: 0.8681666666666666 and parameters: {'batch_size': 128, 'lr': 0.00010092119152198747, 'momentum': 0.94858451091607, 'step_size': 5, 'gamma': 0.7843814787147774}. Best is trial 8 with value: 0.8715555555555555.\n"
     ]
    },
    {
     "name": "stdout",
     "output_type": "stream",
     "text": [
      "⛔ Early Stopping in Epoch 1\n"
     ]
    },
    {
     "name": "stderr",
     "output_type": "stream",
     "text": [
      "[I 2025-06-22 16:28:59,018] Trial 12 finished with value: 0.8691388888888889 and parameters: {'batch_size': 128, 'lr': 0.0004678743169452856, 'momentum': 0.8269807753986853, 'step_size': 5, 'gamma': 0.7433404622692552}. Best is trial 8 with value: 0.8715555555555555.\n"
     ]
    },
    {
     "name": "stdout",
     "output_type": "stream",
     "text": [
      "⛔ Early Stopping in Epoch 1\n"
     ]
    },
    {
     "name": "stderr",
     "output_type": "stream",
     "text": [
      "[I 2025-06-22 16:29:19,509] Trial 13 finished with value: 0.8701944444444445 and parameters: {'batch_size': 144, 'lr': 0.001828867690134405, 'momentum': 0.8135452594083342, 'step_size': 5, 'gamma': 0.8410624876393054}. Best is trial 8 with value: 0.8715555555555555.\n"
     ]
    },
    {
     "name": "stdout",
     "output_type": "stream",
     "text": [
      "⛔ Early Stopping in Epoch 1\n"
     ]
    },
    {
     "name": "stderr",
     "output_type": "stream",
     "text": [
      "[I 2025-06-22 16:29:35,575] Trial 14 finished with value: 0.8705833333333334 and parameters: {'batch_size': 256, 'lr': 0.00027811779486526213, 'momentum': 0.9394476014152526, 'step_size': 4, 'gamma': 0.7414475744418617}. Best is trial 8 with value: 0.8715555555555555.\n"
     ]
    },
    {
     "name": "stdout",
     "output_type": "stream",
     "text": [
      "⛔ Early Stopping in Epoch 1\n"
     ]
    },
    {
     "name": "stderr",
     "output_type": "stream",
     "text": [
      "[I 2025-06-22 16:29:56,984] Trial 15 finished with value: 0.8698888888888889 and parameters: {'batch_size': 128, 'lr': 0.0031996952056889847, 'momentum': 0.8544284575314675, 'step_size': 5, 'gamma': 0.8072861765156136}. Best is trial 8 with value: 0.8715555555555555.\n"
     ]
    },
    {
     "name": "stdout",
     "output_type": "stream",
     "text": [
      "⛔ Early Stopping in Epoch 1\n"
     ]
    },
    {
     "name": "stderr",
     "output_type": "stream",
     "text": [
      "[I 2025-06-22 16:30:13,014] Trial 16 finished with value: 0.8695833333333334 and parameters: {'batch_size': 256, 'lr': 0.00041633010264717594, 'momentum': 0.6852096885839084, 'step_size': 3, 'gamma': 0.9478487492193882}. Best is trial 8 with value: 0.8715555555555555.\n"
     ]
    },
    {
     "name": "stdout",
     "output_type": "stream",
     "text": [
      "⛔ Early Stopping in Epoch 1\n"
     ]
    },
    {
     "name": "stderr",
     "output_type": "stream",
     "text": [
      "[I 2025-06-22 16:30:34,485] Trial 17 finished with value: 0.86875 and parameters: {'batch_size': 128, 'lr': 0.0020531869217222, 'momentum': 0.9029564182395716, 'step_size': 4, 'gamma': 0.7015751018420497}. Best is trial 8 with value: 0.8715555555555555.\n"
     ]
    },
    {
     "name": "stdout",
     "output_type": "stream",
     "text": [
      "⛔ Early Stopping in Epoch 1\n"
     ]
    },
    {
     "name": "stderr",
     "output_type": "stream",
     "text": [
      "[I 2025-06-22 16:30:54,915] Trial 18 finished with value: 0.8681388888888889 and parameters: {'batch_size': 144, 'lr': 0.0010243564998505474, 'momentum': 0.801817883764402, 'step_size': 5, 'gamma': 0.867699233138312}. Best is trial 8 with value: 0.8715555555555555.\n"
     ]
    },
    {
     "name": "stdout",
     "output_type": "stream",
     "text": [
      "⛔ Early Stopping in Epoch 1\n"
     ]
    },
    {
     "name": "stderr",
     "output_type": "stream",
     "text": [
      "[I 2025-06-22 16:31:16,292] Trial 19 finished with value: 0.8691666666666666 and parameters: {'batch_size': 128, 'lr': 0.00021132125046572338, 'momentum': 0.642722878381176, 'step_size': 4, 'gamma': 0.7713114318292309}. Best is trial 8 with value: 0.8715555555555555.\n"
     ]
    },
    {
     "name": "stdout",
     "output_type": "stream",
     "text": [
      "🎯 Beste Hyperparameter:\n",
      "batch_size: 256\n",
      "lr: 0.001061419976981889\n",
      "momentum: 0.7668524142972986\n",
      "step_size: 5\n",
      "gamma: 0.7181728886749222\n"
     ]
    }
   ],
   "source": [
    "# -----------------------------\n",
    "# Optuna-Studie starten\n",
    "# -----------------------------\n",
    "study = optuna.create_study(direction=\"maximize\")\n",
    "study.optimize(get_objective(\n",
    "          train_dataset=train_dataset,\n",
    "          test_dataset=test_dataset,\n",
    "          device=device,\n",
    "          model=ResNet18(num_classes=len(class_list)).to(device),\n",
    "          early_stopping=EarlyStopping(patience=4)), n_trials=20)\n",
    "\n",
    "# Beste Parameter anzeigen\n",
    "print(\"🎯 Beste Hyperparameter:\")\n",
    "for k, v in study.best_params.items():\n",
    "    print(f\"{k}: {v}\")"
   ]
  },
  {
   "cell_type": "code",
   "execution_count": 26,
   "id": "288dda0a",
   "metadata": {},
   "outputs": [],
   "source": [
    "# -----------------------------\n",
    "# Finales Training mit besten Parametern \n",
    "# -----------------------------\n",
    "best_params = study.best_params\n",
    "train_loader = DataLoader(train_dataset, batch_size=best_params[\"batch_size\"], shuffle=True)\n",
    "test_loader = DataLoader(test_dataset, batch_size=best_params[\"batch_size\"], shuffle=False)\n",
    "\n",
    "model = ResNet18(num_classes=len(class_list)).to(device)\n",
    "criterion = nn.CrossEntropyLoss()\n",
    "optimizer = torch.optim.SGD(model.parameters(), lr=best_params[\"lr\"], momentum=best_params[\"momentum\"])\n",
    "scheduler = torch.optim.lr_scheduler.StepLR(optimizer, step_size=best_params[\"step_size\"], gamma=best_params[\"gamma\"])\n"
   ]
  },
  {
   "cell_type": "code",
   "execution_count": 33,
   "id": "6851da6e",
   "metadata": {},
   "outputs": [],
   "source": [
    "# ✅ Einheitlich definieren\n",
    "class_list = list(\"0123456789ABCDEFGHIJKLMabcdefghijklm\")  # = 36 Klassen\n",
    "assert len(class_list) == len(set(class_list))  # doppelte vermeiden\n",
    "\n",
    "# ✅ class_type_map definieren\n",
    "class_type_map = []\n",
    "for c in class_list:\n",
    "    if c.isdigit():\n",
    "        class_type_map.append(0)  # Ziffer\n",
    "    elif c.isupper():\n",
    "        class_type_map.append(1)  # Großbuchstabe\n",
    "    else:\n",
    "        class_type_map.append(2)  # Kleinbuchstabe\n",
    "\n",
    "# ✅ type_labels passend zu den Klassen generieren\n",
    "def get_type_label_tensor(label_tensor):\n",
    "    type_labels = []\n",
    "    for label in label_tensor:\n",
    "        char = class_list[int(label)]\n",
    "        if char.isdigit():\n",
    "            type_labels.append(0)\n",
    "        elif char.isupper():\n",
    "            type_labels.append(1)\n",
    "        else:\n",
    "            type_labels.append(2)\n",
    "    return torch.tensor(type_labels, dtype=torch.long)\n",
    "\n",
    "# ✅ Dataloader vorbereiten\n",
    "y_train_type = get_type_label_tensor(y_train)\n",
    "y_test_type = get_type_label_tensor(y_test)\n",
    "\n",
    "train_dataset = TensorDataset(X_train, y_train, y_train_type)\n",
    "test_dataset = TensorDataset(X_test, y_test, y_test_type)\n",
    "\n",
    "train_loader = DataLoader(train_dataset, batch_size=best_params[\"batch_size\"], shuffle=True)\n",
    "test_loader = DataLoader(test_dataset, batch_size=best_params[\"batch_size\"], shuffle=False)"
   ]
  },
  {
   "cell_type": "code",
   "execution_count": null,
   "id": "856287a6",
   "metadata": {},
   "outputs": [
    {
     "name": "stdout",
     "output_type": "stream",
     "text": [
      "Epoch 1, Loss: 590.9544\n",
      "Epoch 2, Loss: 429.7407\n",
      "Epoch 3, Loss: 389.3780\n"
     ]
    }
   ],
   "source": [
    "# Initialisiere Modelle\n",
    "tm1 = ResNet18(num_classes=len(class_list))  # Transfermodell aus Aufgabe 1.2\n",
    "\n",
    "tm2 = TypeClassifier()\n",
    "\n",
    "modular_model = ModularClassifier(tm1, tm2, class_type_map).to(device)\n",
    "\n",
    "# Loss-Funktionen und Optimierer\n",
    "criterion_cls = nn.CrossEntropyLoss()\n",
    "criterion_type = nn.CrossEntropyLoss()\n",
    "optimizer = torch.optim.Adam(modular_model.parameters(), lr=1e-3)\n",
    "\n",
    "# Training\n",
    "for epoch in range(30):\n",
    "    modular_model.train()\n",
    "    total_loss = 0.0\n",
    "    for images, labels_cls, labels_type in train_loader:\n",
    "        images = images.to(device)\n",
    "        labels_cls = labels_cls.to(device)\n",
    "        labels_type = labels_type.to(device)\n",
    "\n",
    "        final_out, out_cls, out_type = modular_model(images)\n",
    "\n",
    "        loss_cls = criterion_cls(out_cls, labels_cls)\n",
    "        loss_type = criterion_type(out_type, labels_type)\n",
    "        loss = loss_cls + 0.5 * loss_type  # Gewichteter kombinierter Loss\n",
    "\n",
    "        optimizer.zero_grad()\n",
    "        loss.backward()\n",
    "        optimizer.step()\n",
    "        total_loss += loss.item()\n",
    "\n",
    "    print(f\"Epoch {epoch+1}, Loss: {total_loss:.4f}\")\n"
   ]
  },
  {
   "cell_type": "code",
   "execution_count": null,
   "id": "cc99dc70",
   "metadata": {},
   "outputs": [],
   "source": [
    "\n"
   ]
  }
 ],
 "metadata": {
  "kernelspec": {
   "display_name": "env",
   "language": "python",
   "name": "python3"
  },
  "language_info": {
   "codemirror_mode": {
    "name": "ipython",
    "version": 3
   },
   "file_extension": ".py",
   "mimetype": "text/x-python",
   "name": "python",
   "nbconvert_exporter": "python",
   "pygments_lexer": "ipython3",
   "version": "3.12.3"
  }
 },
 "nbformat": 4,
 "nbformat_minor": 5
}
