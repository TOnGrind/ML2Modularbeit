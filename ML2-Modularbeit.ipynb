{
 "cells": [
  {
   "cell_type": "markdown",
   "id": "8168e98c",
   "metadata": {},
   "source": [
    "# Timon Spichtinger Machine Learning 2 Modularbeit"
   ]
  },
  {
   "cell_type": "code",
   "execution_count": 1,
   "id": "113ca418",
   "metadata": {},
   "outputs": [],
   "source": [
    "from torchvision.datasets import EMNIST\n",
    "from torchvision import transforms\n",
    "from torch.utils.data import DataLoader, Subset\n",
    "import torch\n",
    "import importlib\n",
    "from Datensatz import get_emnist_test_train, show_random_samples\n",
    "import torch.nn as nn"
   ]
  },
  {
   "cell_type": "markdown",
   "id": "6ddf5338",
   "metadata": {},
   "source": [
    "## 1.1 Datensatz"
   ]
  },
  {
   "cell_type": "markdown",
   "id": "6f3bf0cf",
   "metadata": {},
   "source": [
    "Train und Testdaten werden aus Emnist-Datensatz geladen. Falls es zuwenige gibt werden die restlichen Augmentiert"
   ]
  },
  {
   "cell_type": "code",
   "execution_count": 2,
   "id": "a9b5f04f",
   "metadata": {},
   "outputs": [
    {
     "name": "stdout",
     "output_type": "stream",
     "text": [
      "Ziel-ASCII: [48, 49, 50, 51, 52, 53, 54, 55, 56, 57, 65, 66, 67, 68, 69, 70, 71, 72, 73, 74, 75, 76, 77, 97, 98, 99, 100, 101, 102, 103, 104, 105, 106, 107, 108, 109]\n",
      "Anzahl Zielklassen: 36\n",
      "⚠️ Klasse B: nur 3878 echte Bilder – augmentiere 2122 zusätzlich.\n",
      "⚠️ Klasse D: nur 4562 echte Bilder – augmentiere 1438 zusätzlich.\n",
      "⚠️ Klasse E: nur 4934 echte Bilder – augmentiere 1066 zusätzlich.\n",
      "⚠️ Klasse G: nur 2517 echte Bilder – augmentiere 3483 zusätzlich.\n",
      "⚠️ Klasse H: nur 3152 echte Bilder – augmentiere 2848 zusätzlich.\n",
      "⚠️ Klasse J: nur 3762 echte Bilder – augmentiere 2238 zusätzlich.\n",
      "⚠️ Klasse K: nur 2468 echte Bilder – augmentiere 3532 zusätzlich.\n",
      "⚠️ Klasse L: nur 5076 echte Bilder – augmentiere 924 zusätzlich.\n",
      "⚠️ Klasse b: nur 5159 echte Bilder – augmentiere 841 zusätzlich.\n",
      "⚠️ Klasse c: nur 2854 echte Bilder – augmentiere 3146 zusätzlich.\n",
      "⚠️ Klasse f: nur 2561 echte Bilder – augmentiere 3439 zusätzlich.\n",
      "⚠️ Klasse g: nur 3687 echte Bilder – augmentiere 2313 zusätzlich.\n",
      "⚠️ Klasse i: nur 2725 echte Bilder – augmentiere 3275 zusätzlich.\n",
      "⚠️ Klasse j: nur 1896 echte Bilder – augmentiere 4104 zusätzlich.\n",
      "⚠️ Klasse k: nur 2491 echte Bilder – augmentiere 3509 zusätzlich.\n",
      "⚠️ Klasse m: nur 2645 echte Bilder – augmentiere 3355 zusätzlich.\n",
      "✅ Trainingsdaten: torch.Size([180000, 1, 28, 28]) torch.Size([180000])\n",
      "✅ Testdaten: torch.Size([36000, 1, 28, 28]) torch.Size([36000])\n"
     ]
    }
   ],
   "source": [
    "X_train, y_train, X_test, y_test,class_list = get_emnist_test_train()"
   ]
  },
  {
   "cell_type": "markdown",
   "id": "58605ffa",
   "metadata": {},
   "source": [
    "Stichprobe, ob der Datensatz passt"
   ]
  },
  {
   "cell_type": "code",
   "execution_count": null,
   "id": "39fe5cf7",
   "metadata": {},
   "outputs": [
    {
     "data": {
      "image/png": "[encoded data removed]",
      "text/plain": [
       "<Figure size 1500x200 with 10 Axes>"
      ]
     },
     "metadata": {},
     "output_type": "display_data"
    }
   ],
   "source": [
    "\n",
    "show_random_samples(X_test, y_test, class_list, n=10)"
   ]
  },
  {
   "cell_type": "code",
   "execution_count": 3,
   "id": "ae2f5e2a",
   "metadata": {},
   "outputs": [
    {
     "name": "stderr",
     "output_type": "stream",
     "text": [
      "/mnt/c/Users/Timon/Desktop/semester6/ml2/Modularbeit/env/lib/python3.10/site-packages/tqdm/auto.py:21: TqdmWarning: IProgress not found. Please update jupyter and ipywidgets. See https://ipywidgets.readthedocs.io/en/stable/user_install.html\n",
      "  from .autonotebook import tqdm as notebook_tqdm\n"
     ]
    }
   ],
   "source": [
    "\n",
    "\n",
    "import torch.nn.functional as F\n",
    "from torch.utils.data import DataLoader, TensorDataset\n",
    "\n",
    "import optuna\n",
    "from Klassifikator import get_objective, ResNet18, EarlyStopping\n"
   ]
  },
  {
   "cell_type": "code",
   "execution_count": 4,
   "id": "c18fcdfc",
   "metadata": {},
   "outputs": [],
   "source": [
    "\n",
    "# Gerät\n",
    "device = torch.device('cuda' if torch.cuda.is_available() else 'cpu')\n",
    "train_dataset = TensorDataset(X_train, y_train)\n",
    "test_dataset = TensorDataset(X_test, y_test)\n",
    "\n"
   ]
  },
  {
   "cell_type": "code",
   "execution_count": null,
   "id": "6c7b06d1",
   "metadata": {},
   "outputs": [
    {
     "name": "stderr",
     "output_type": "stream",
     "text": [
      "[I 2025-06-25 10:15:32,113] A new study created in memory with name: no-name-b53304b0-b7d6-4fb9-8207-c8376a527d9d\n"
     ]
    },
    {
     "ename": "TypeError",
     "evalue": "get_objective() got an unexpected keyword argument 'early_stopping'",
     "output_type": "error",
     "traceback": [
      "\u001b[0;31m---------------------------------------------------------------------------\u001b[0m",
      "\u001b[0;31mTypeError\u001b[0m                                 Traceback (most recent call last)",
      "Cell \u001b[0;32mIn[5], line 5\u001b[0m\n\u001b[1;32m      1\u001b[0m \u001b[38;5;66;03m# -----------------------------\u001b[39;00m\n\u001b[1;32m      2\u001b[0m \u001b[38;5;66;03m# Optuna-Studie starten\u001b[39;00m\n\u001b[1;32m      3\u001b[0m \u001b[38;5;66;03m# -----------------------------\u001b[39;00m\n\u001b[1;32m      4\u001b[0m study \u001b[38;5;241m=\u001b[39m optuna\u001b[38;5;241m.\u001b[39mcreate_study(direction\u001b[38;5;241m=\u001b[39m\u001b[38;5;124m\"\u001b[39m\u001b[38;5;124mmaximize\u001b[39m\u001b[38;5;124m\"\u001b[39m)\n\u001b[0;32m----> 5\u001b[0m study\u001b[38;5;241m.\u001b[39moptimize(\u001b[43mget_objective\u001b[49m\u001b[43m(\u001b[49m\n\u001b[1;32m      6\u001b[0m \u001b[43m          \u001b[49m\u001b[43mtrain_dataset\u001b[49m\u001b[38;5;241;43m=\u001b[39;49m\u001b[43mtrain_dataset\u001b[49m\u001b[43m,\u001b[49m\n\u001b[1;32m      7\u001b[0m \u001b[43m          \u001b[49m\u001b[43mtest_dataset\u001b[49m\u001b[38;5;241;43m=\u001b[39;49m\u001b[43mtest_dataset\u001b[49m\u001b[43m,\u001b[49m\n\u001b[1;32m      8\u001b[0m \u001b[43m          \u001b[49m\u001b[43mdevice\u001b[49m\u001b[38;5;241;43m=\u001b[39;49m\u001b[43mdevice\u001b[49m\u001b[43m,\u001b[49m\n\u001b[1;32m      9\u001b[0m \u001b[43m          \u001b[49m\u001b[43mmodel\u001b[49m\u001b[38;5;241;43m=\u001b[39;49m\u001b[43mResNet18\u001b[49m\u001b[43m(\u001b[49m\u001b[43mnum_classes\u001b[49m\u001b[38;5;241;43m=\u001b[39;49m\u001b[38;5;28;43mlen\u001b[39;49m\u001b[43m(\u001b[49m\u001b[43mclass_list\u001b[49m\u001b[43m)\u001b[49m\u001b[43m)\u001b[49m\u001b[38;5;241;43m.\u001b[39;49m\u001b[43mto\u001b[49m\u001b[43m(\u001b[49m\u001b[43mdevice\u001b[49m\u001b[43m)\u001b[49m\u001b[43m,\u001b[49m\n\u001b[1;32m     10\u001b[0m \u001b[43m          \u001b[49m\u001b[43mearly_stopping\u001b[49m\u001b[38;5;241;43m=\u001b[39;49m\u001b[43mEarlyStopping\u001b[49m\u001b[43m(\u001b[49m\u001b[43mpatience\u001b[49m\u001b[38;5;241;43m=\u001b[39;49m\u001b[38;5;241;43m4\u001b[39;49m\u001b[43m)\u001b[49m\u001b[43m)\u001b[49m, n_trials\u001b[38;5;241m=\u001b[39m\u001b[38;5;241m20\u001b[39m)\n\u001b[1;32m     12\u001b[0m \u001b[38;5;66;03m# Beste Parameter anzeigen\u001b[39;00m\n\u001b[1;32m     13\u001b[0m \u001b[38;5;28mprint\u001b[39m(\u001b[38;5;124m\"\u001b[39m\u001b[38;5;124m🎯 Beste Hyperparameter:\u001b[39m\u001b[38;5;124m\"\u001b[39m)\n",
      "\u001b[0;31mTypeError\u001b[0m: get_objective() got an unexpected keyword argument 'early_stopping'"
     ]
    }
   ],
   "source": [
    "# -----------------------------\n",
    "# Optuna-Studie starten\n",
    "# -----------------------------\n",
    "study = optuna.create_study(direction=\"maximize\")\n",
    "study.optimize(get_objective(\n",
    "          train_dataset=train_dataset,\n",
    "          test_dataset=test_dataset,\n",
    "          device=device,\n",
    "          model=ResNet18(num_classes=len(class_list)).to(device),\n",
    "          early_stopping=EarlyStopping()), n_trials=20)\n",
    "\n",
    "# Beste Parameter anzeigen\n",
    "print(\"🎯 Beste Hyperparameter:\")\n",
    "for k, v in study.best_params.items():\n",
    "    print(f\"{k}: {v}\")\n",
    "\n"
   ]
  },
  {
   "cell_type": "code",
   "execution_count": null,
   "id": "fdf5b4e9",
   "metadata": {},
   "outputs": [
    {
     "ename": "NameError",
     "evalue": "name 'study' is not defined",
     "output_type": "error",
     "traceback": [
      "\u001b[0;31m---------------------------------------------------------------------------\u001b[0m",
      "\u001b[0;31mNameError\u001b[0m                                 Traceback (most recent call last)",
      "Cell \u001b[0;32mIn[4], line 4\u001b[0m\n\u001b[1;32m      1\u001b[0m \u001b[38;5;66;03m# -----------------------------\u001b[39;00m\n\u001b[1;32m      2\u001b[0m \u001b[38;5;66;03m# Parameter fü Finales Training \u001b[39;00m\n\u001b[1;32m      3\u001b[0m \u001b[38;5;66;03m# -----------------------------\u001b[39;00m\n\u001b[0;32m----> 4\u001b[0m best_params \u001b[38;5;241m=\u001b[39m \u001b[43mstudy\u001b[49m\u001b[38;5;241m.\u001b[39mbest_params\n\u001b[1;32m      5\u001b[0m train_loader \u001b[38;5;241m=\u001b[39m DataLoader(train_dataset, batch_size\u001b[38;5;241m=\u001b[39mbest_params[\u001b[38;5;124m\"\u001b[39m\u001b[38;5;124mbatch_size\u001b[39m\u001b[38;5;124m\"\u001b[39m], shuffle\u001b[38;5;241m=\u001b[39m\u001b[38;5;28;01mTrue\u001b[39;00m)\n\u001b[1;32m      6\u001b[0m test_loader \u001b[38;5;241m=\u001b[39m DataLoader(test_dataset, batch_size\u001b[38;5;241m=\u001b[39mbest_params[\u001b[38;5;124m\"\u001b[39m\u001b[38;5;124mbatch_size\u001b[39m\u001b[38;5;124m\"\u001b[39m], shuffle\u001b[38;5;241m=\u001b[39m\u001b[38;5;28;01mFalse\u001b[39;00m)\n",
      "\u001b[0;31mNameError\u001b[0m: name 'study' is not defined"
     ]
    }
   ],
   "source": [
    "# -----------------------------\n",
    "# Parameter fü Finales Training \n",
    "# -----------------------------\n",
    "best_params = study.best_params\n",
    "train_loader = DataLoader(train_dataset, batch_size=best_params[\"batch_size\"], shuffle=True)\n",
    "test_loader = DataLoader(test_dataset, batch_size=best_params[\"batch_size\"], shuffle=False)\n",
    "\n",
    "model = ResNet18(num_classes=len(class_list)).to(device)\n",
    "criterion = nn.CrossEntropyLoss()\n",
    "optimizer = torch.optim.SGD(model.parameters(), lr=best_params[\"lr\"], momentum=best_params[\"momentum\"])\n",
    "scheduler = torch.optim.lr_scheduler.StepLR(optimizer, step_size=best_params[\"step_size\"], gamma=best_params[\"gamma\"])\n",
    "\n",
    "\n",
    "\n"
   ]
  },
  {
   "cell_type": "code",
   "execution_count": null,
   "id": "0e123029",
   "metadata": {},
   "outputs": [
    {
     "ename": "NameError",
     "evalue": "name 'train_loader' is not defined",
     "output_type": "error",
     "traceback": [
      "\u001b[0;31m---------------------------------------------------------------------------\u001b[0m",
      "\u001b[0;31mNameError\u001b[0m                                 Traceback (most recent call last)",
      "Cell \u001b[0;32mIn[3], line 52\u001b[0m\n\u001b[1;32m     49\u001b[0m             \u001b[38;5;28mprint\u001b[39m(\u001b[38;5;124mf\u001b[39m\u001b[38;5;124m\"\u001b[39m\u001b[38;5;124m🛑 Early stopping ausgelöst bei Epoch \u001b[39m\u001b[38;5;132;01m{\u001b[39;00mepoch\u001b[38;5;241m+\u001b[39m\u001b[38;5;241m1\u001b[39m\u001b[38;5;132;01m}\u001b[39;00m\u001b[38;5;124m (Val Loss: \u001b[39m\u001b[38;5;132;01m{\u001b[39;00mval_loss\u001b[38;5;132;01m:\u001b[39;00m\u001b[38;5;124m.4f\u001b[39m\u001b[38;5;132;01m}\u001b[39;00m\u001b[38;5;124m)\u001b[39m\u001b[38;5;124m\"\u001b[39m)\n\u001b[1;32m     50\u001b[0m             \u001b[38;5;28;01mbreak\u001b[39;00m\n\u001b[0;32m---> 52\u001b[0m _1_2training(\u001b[43mtrain_loader\u001b[49m,test_loader,model,scheduler,epochs \u001b[38;5;241m=\u001b[39m \u001b[38;5;241m30\u001b[39m)\n",
      "\u001b[0;31mNameError\u001b[0m: name 'train_loader' is not defined"
     ]
    }
   ],
   "source": [
    "def _1_2training(train_loader,test_loader,model,scheduler,epochs = 30):\n",
    "\n",
    "    for epoch in range(30):\n",
    "        model.train()\n",
    "        running_loss = 0.0\n",
    "        correct_train = 0\n",
    "        total_train = 0\n",
    "\n",
    "        for i, (images, labels) in enumerate(train_loader):\n",
    "            images, labels = images.to(device), labels.to(device)\n",
    "            outputs = model(images)\n",
    "            loss = criterion(outputs, labels)\n",
    "\n",
    "            optimizer.zero_grad()\n",
    "            loss.backward()\n",
    "            optimizer.step()\n",
    "\n",
    "            running_loss += loss.item()\n",
    "            _, predicted = torch.max(outputs.data, 1)\n",
    "            total_train += labels.size(0)\n",
    "            correct_train += (predicted == labels).sum().item()\n",
    "\n",
    "            if (i + 1) % 200 == 0:\n",
    "                print(f\"🔁 Epoch {epoch+1}, Step {i+1}/{len(train_loader)}: Batch Loss = {loss.item():.4f}\")\n",
    "\n",
    "        scheduler.step()\n",
    "\n",
    "        # Validierung\n",
    "        val_loss = 0.0\n",
    "        correct_val = 0\n",
    "        total_val = 0\n",
    "        model.eval()\n",
    "        with torch.no_grad():\n",
    "            for images, labels in test_loader:\n",
    "                images, labels = images.to(device), labels.to(device)\n",
    "                outputs = model(images)\n",
    "                val_loss += criterion(outputs, labels).item()\n",
    "                _, predicted = torch.max(outputs.data, 1)\n",
    "                total_val += labels.size(0)\n",
    "                correct_val += (predicted == labels).sum().item()\n",
    "        val_loss /= len(test_loader)\n",
    "        train_acc = 100.0 * correct_train / total_train\n",
    "        val_acc = 100.0 * correct_val / total_val\n",
    "\n",
    "        print(f\"📊 Epoch {epoch+1}: Train Acc = {train_acc:.2f}%, Val Acc = {val_acc:.2f}%, Val Loss = {val_loss:.4f}, LR = {scheduler.get_last_lr()}\")\n",
    "        early_stopping = EarlyStopping()\n",
    "        early_stopping(val_loss)\n",
    "        if early_stopping.early_stop:\n",
    "            print(f\"🛑 Early stopping ausgelöst bei Epoch {epoch+1} (Val Loss: {val_loss:.4f})\")\n",
    "            break\n",
    "\n",
    "_1_2training(train_loader,test_loader,model,scheduler,epochs = 30)\n"
   ]
  },
  {
   "cell_type": "code",
   "execution_count": null,
   "id": "e3bef864",
   "metadata": {},
   "outputs": [],
   "source": [
    "# Modell speichern\n",
    "torch.save(model.state_dict(), './resnet18_best_hyperparams.pth')\n",
    "print(\"✅ Modell gespeichert.\")"
   ]
  },
  {
   "cell_type": "code",
   "execution_count": null,
   "id": "c4baf65e",
   "metadata": {},
   "outputs": [
    {
     "name": "stdout",
     "output_type": "stream",
     "text": [
      "Gesamtgenauigkeit des Netzwerks: 83.92 %\n",
      "Genauigkeit für Klasse 0: 97.90 %\n",
      "Genauigkeit für Klasse 1: 71.70 %\n",
      "Genauigkeit für Klasse 2: 98.20 %\n",
      "Genauigkeit für Klasse 3: 98.20 %\n",
      "Genauigkeit für Klasse 4: 97.00 %\n",
      "Genauigkeit für Klasse 5: 98.40 %\n",
      "Genauigkeit für Klasse 6: 93.80 %\n",
      "Genauigkeit für Klasse 7: 98.80 %\n",
      "Genauigkeit für Klasse 8: 97.80 %\n",
      "Genauigkeit für Klasse 9: 93.50 %\n",
      "Genauigkeit für Klasse A: 98.40 %\n",
      "Genauigkeit für Klasse B: 91.20 %\n",
      "Genauigkeit für Klasse C: 91.60 %\n",
      "Genauigkeit für Klasse D: 90.10 %\n",
      "Genauigkeit für Klasse E: 93.90 %\n",
      "Genauigkeit für Klasse F: 87.40 %\n",
      "Genauigkeit für Klasse G: 89.50 %\n",
      "Genauigkeit für Klasse H: 94.50 %\n",
      "Genauigkeit für Klasse I: 52.10 %\n",
      "Genauigkeit für Klasse J: 82.30 %\n",
      "Genauigkeit für Klasse K: 78.40 %\n",
      "Genauigkeit für Klasse L: 93.30 %\n",
      "Genauigkeit für Klasse M: 58.20 %\n",
      "Genauigkeit für Klasse a: 94.50 %\n",
      "Genauigkeit für Klasse b: 89.00 %\n",
      "Genauigkeit für Klasse c: 53.90 %\n",
      "Genauigkeit für Klasse d: 96.80 %\n",
      "Genauigkeit für Klasse e: 97.20 %\n",
      "Genauigkeit für Klasse f: 64.70 %\n",
      "Genauigkeit für Klasse g: 72.10 %\n",
      "Genauigkeit für Klasse h: 96.80 %\n",
      "Genauigkeit für Klasse i: 69.30 %\n",
      "Genauigkeit für Klasse j: 71.00 %\n",
      "Genauigkeit für Klasse k: 47.50 %\n",
      "Genauigkeit für Klasse l: 40.20 %\n",
      "Genauigkeit für Klasse m: 81.90 %\n",
      "\n",
      "Precision, Recall, F1-Score pro Klasse:\n",
      "Klasse 0: Precision=0.95, Recall=0.98, F1-Score=0.96\n",
      "Klasse 1: Precision=0.48, Recall=0.72, F1-Score=0.57\n",
      "Klasse 2: Precision=0.97, Recall=0.98, F1-Score=0.98\n",
      "Klasse 3: Precision=0.99, Recall=0.98, F1-Score=0.99\n",
      "Klasse 4: Precision=0.99, Recall=0.97, F1-Score=0.98\n",
      "Klasse 5: Precision=0.97, Recall=0.98, F1-Score=0.98\n",
      "Klasse 6: Precision=0.94, Recall=0.94, F1-Score=0.94\n",
      "Klasse 7: Precision=0.99, Recall=0.99, F1-Score=0.99\n",
      "Klasse 8: Precision=0.94, Recall=0.98, F1-Score=0.96\n",
      "Klasse 9: Precision=0.87, Recall=0.94, F1-Score=0.90\n",
      "Klasse A: Precision=0.95, Recall=0.98, F1-Score=0.97\n",
      "Klasse B: Precision=0.94, Recall=0.91, F1-Score=0.93\n",
      "Klasse C: Precision=0.68, Recall=0.92, F1-Score=0.78\n",
      "Klasse D: Precision=0.94, Recall=0.90, F1-Score=0.92\n",
      "Klasse E: Precision=0.93, Recall=0.94, F1-Score=0.94\n",
      "Klasse F: Precision=0.75, Recall=0.87, F1-Score=0.81\n",
      "Klasse G: Precision=0.90, Recall=0.90, F1-Score=0.90\n",
      "Klasse H: Precision=0.93, Recall=0.94, F1-Score=0.94\n",
      "Klasse I: Precision=0.64, Recall=0.52, F1-Score=0.58\n",
      "Klasse J: Precision=0.84, Recall=0.82, F1-Score=0.83\n",
      "Klasse K: Precision=0.61, Recall=0.78, F1-Score=0.68\n",
      "Klasse L: Precision=0.90, Recall=0.93, F1-Score=0.92\n",
      "Klasse M: Precision=0.79, Recall=0.58, F1-Score=0.67\n",
      "Klasse a: Precision=0.96, Recall=0.94, F1-Score=0.95\n",
      "Klasse b: Precision=0.93, Recall=0.89, F1-Score=0.91\n",
      "Klasse c: Precision=0.79, Recall=0.54, F1-Score=0.64\n",
      "Klasse d: Precision=0.98, Recall=0.97, F1-Score=0.98\n",
      "Klasse e: Precision=0.96, Recall=0.97, F1-Score=0.97\n",
      "Klasse f: Precision=0.77, Recall=0.65, F1-Score=0.70\n",
      "Klasse g: Precision=0.82, Recall=0.72, F1-Score=0.77\n",
      "Klasse h: Precision=0.96, Recall=0.97, F1-Score=0.96\n",
      "Klasse i: Precision=0.72, Recall=0.69, F1-Score=0.70\n",
      "Klasse j: Precision=0.76, Recall=0.71, F1-Score=0.73\n",
      "Klasse k: Precision=0.66, Recall=0.47, F1-Score=0.55\n",
      "Klasse l: Precision=0.52, Recall=0.40, F1-Score=0.45\n",
      "Klasse m: Precision=0.65, Recall=0.82, F1-Score=0.73\n",
      "\n",
      "Durchschnittlicher F1-Score (gewichtet): 0.84\n",
      "\n",
      "Konfusionsmatrix:\n",
      "[[979   0   0 ...   0   0   0]\n",
      " [  0 717   0 ...   0 176   0]\n",
      " [  0   0 982 ...   0   0   0]\n",
      " ...\n",
      " [  0   0   0 ... 475   0   0]\n",
      " [  0 441   0 ...   0 402   0]\n",
      " [  0   0   0 ...   6   0 819]]\n",
      "\n",
      "Durchschnittliche ROC-AUC: 1.00\n"
     ]
    },
    {
     "data": {
      "text/plain": [
       "83.91944444444445"
      ]
     },
     "execution_count": 9,
     "metadata": {},
     "output_type": "execute_result"
    }
   ],
   "source": [
    "import torch\n",
    "from collections import defaultdict\n",
    "from sklearn.metrics import precision_score, recall_score, f1_score, roc_auc_score, confusion_matrix\n",
    "import numpy as np\n",
    "\n",
    "def evaluate_model(model, test_loader, device, class_list):\n",
    "    model.eval()  # Setze das Modell in den Evaluierungsmodus\n",
    "    all_labels = []\n",
    "    all_predictions = []\n",
    "\n",
    "    with torch.no_grad():  # Keine Gradientenberechnung, da wir nur evaluieren\n",
    "        n_correct = 0\n",
    "        n_samples = 0\n",
    "        n_class_correct = defaultdict(int)\n",
    "        n_class_samples = defaultdict(int)\n",
    "\n",
    "        # Iteriere über den Testdatensatz\n",
    "        for images, labels in test_loader:\n",
    "            images = images.to(device)  # Bilder auf das gleiche Gerät verschieben (GPU oder CPU)\n",
    "            labels = labels.to(device)  # Labels auf das gleiche Gerät verschieben (GPU oder CPU)\n",
    "            \n",
    "            # Vorwärtsdurchlauf\n",
    "            outputs = model(images)\n",
    "            \n",
    "            # Vorhersagen\n",
    "            _, predicted = torch.max(outputs, 1)\n",
    "\n",
    "            # Update der Gesamtmetriken\n",
    "            n_samples += labels.size(0)\n",
    "            n_correct += (predicted == labels).sum().item()\n",
    "\n",
    "            # Update der Metriken pro Klasse\n",
    "            for i in range(labels.size(0)):\n",
    "                label = labels[i].item()\n",
    "                pred = predicted[i].item()\n",
    "                if label == pred:\n",
    "                    n_class_correct[label] += 1\n",
    "                n_class_samples[label] += 1\n",
    "\n",
    "            # Speichere alle Labels und Vorhersagen für die Berechnung der weiteren Metriken\n",
    "            all_labels.extend(labels.cpu().numpy())\n",
    "            all_predictions.extend(predicted.cpu().numpy())\n",
    "\n",
    "        # Berechnung der Gesamtgenauigkeit\n",
    "        acc = 100.0 * n_correct / n_samples\n",
    "        print(f'Gesamtgenauigkeit des Netzwerks: {acc:.2f} %')\n",
    "\n",
    "        # Berechnung der Klasse-genauen Genauigkeit\n",
    "        for label in sorted(n_class_samples.keys()):\n",
    "            ascii_char = class_list[label]\n",
    "            class_acc = 100.0 * n_class_correct[label] / n_class_samples[label]\n",
    "            print(f'Genauigkeit für Klasse {ascii_char}: {class_acc:.2f} %')\n",
    "\n",
    "        # Berechnung der Precision, Recall und F1-Score für jede Klasse\n",
    "        precision = precision_score(all_labels, all_predictions, average=None, labels=np.unique(all_labels))\n",
    "        recall = recall_score(all_labels, all_predictions, average=None, labels=np.unique(all_labels))\n",
    "        f1 = f1_score(all_labels, all_predictions, average=None, labels=np.unique(all_labels))\n",
    "        \n",
    "        # Berechne den durchschnittlichen F1-Score\n",
    "        avg_f1 = f1_score(all_labels, all_predictions, average='weighted')\n",
    "        \n",
    "        print(\"\\nPrecision, Recall, F1-Score pro Klasse:\")\n",
    "        for i, ascii_char in enumerate(class_list):\n",
    "            print(f\"Klasse {ascii_char}: Precision={precision[i]:.2f}, Recall={recall[i]:.2f}, F1-Score={f1[i]:.2f}\")\n",
    "        \n",
    "        print(f\"\\nDurchschnittlicher F1-Score (gewichtet): {avg_f1:.2f}\")\n",
    "\n",
    "        # Berechnung der Konfusionsmatrix\n",
    "        cm = confusion_matrix(all_labels, all_predictions)\n",
    "        print(f\"\\nKonfusionsmatrix:\\n{cm}\")\n",
    "\n",
    "        # Berechnung der ROC-AUC (für Multiklassen kann man dies auch für jedes Label einzeln berechnen)\n",
    "        try:\n",
    "            roc_auc = roc_auc_score(all_labels, model_output_to_probs(model, test_loader, device), multi_class='ovr', average='weighted')\n",
    "            print(f\"\\nDurchschnittliche ROC-AUC: {roc_auc:.2f}\")\n",
    "        except ValueError:\n",
    "            print(\"\\nROC-AUC konnte nicht berechnet werden (möglicherweise nicht geeignet für das Problem).\")\n",
    "\n",
    "        return acc\n",
    "\n",
    "# Hilfsfunktion zur Berechnung der ROC-AUC für das Multiklassenproblem\n",
    "def model_output_to_probs(model, test_loader, device):\n",
    "    model.eval()\n",
    "    all_probs = []\n",
    "    with torch.no_grad():\n",
    "        for images, _ in test_loader:\n",
    "            images = images.to(device)\n",
    "            outputs = model(images)\n",
    "            probs = torch.softmax(outputs, dim=1)\n",
    "            all_probs.extend(probs.cpu().numpy())\n",
    "    return np.array(all_probs)\n",
    "\n",
    "# Beispielaufruf\n",
    "device = torch.device('cuda' if torch.cuda.is_available() else 'cpu')  # Wähle GPU, wenn verfügbar\n",
    "\n",
    "# Modell auf das Gerät (GPU/CPU) verschieben\n",
    "model = model.to(device)\n",
    "\n",
    "# Jetzt den Evaluierungscode aufrufen\n",
    "evaluate_model(model, test_loader, device, class_list)\n"
   ]
  },
  {
   "cell_type": "markdown",
   "id": "1e153ab6",
   "metadata": {},
   "source": [
    "# 1.3"
   ]
  },
  {
   "cell_type": "code",
   "execution_count": null,
   "id": "0fa0bb8b",
   "metadata": {},
   "outputs": [],
   "source": [
    "def create_type_labeled_dataloaders(X_train, y_train, X_test, y_test, class_list, batch_size):\n",
    "    def get_type_labels(y_tensor):\n",
    "        type_labels = []\n",
    "        for label in y_tensor:\n",
    "            char = str(class_list[int(label)])  # Ensure it's a string\n",
    "            \n",
    "            if char.isdigit():\n",
    "                type_labels.append(0)  # Ziffer\n",
    "            elif char.isupper():\n",
    "                type_labels.append(1)  # Großbuchstabe\n",
    "            else:\n",
    "                type_labels.append(2)  # Kleinbuchstabe\n",
    "        return torch.tensor(type_labels, dtype=torch.long)\n",
    "\n",
    "    y_train_type = get_type_labels(y_train)\n",
    "    y_test_type = get_type_labels(y_test)\n",
    "\n",
    "    train_dataset = TensorDataset(X_train, y_train, y_train_type)\n",
    "    test_dataset = TensorDataset(X_test, y_test, y_test_type)\n",
    "\n",
    "    train_loader = DataLoader(train_dataset, batch_size=batch_size, shuffle=True)\n",
    "    test_loader = DataLoader(test_dataset, batch_size=batch_size, shuffle=False)\n",
    "\n",
    "    return train_loader, test_loader\n"
   ]
  },
  {
   "cell_type": "code",
   "execution_count": null,
   "id": "611a1553",
   "metadata": {},
   "outputs": [],
   "source": []
  },
  {
   "cell_type": "code",
   "execution_count": null,
   "id": "605e97f2",
   "metadata": {},
   "outputs": [],
   "source": [
    "train_loader, test_loader = create_type_labeled_dataloaders(\n",
    "    X_train, y_train, X_test, y_test,\n",
    "    class_list=class_list,\n",
    "    batch_size=best_params[\"batch_size\"]\n",
    ")\n"
   ]
  },
  {
   "cell_type": "code",
   "execution_count": null,
   "id": "4a43519a",
   "metadata": {},
   "outputs": [],
   "source": []
  },
  {
   "cell_type": "code",
   "execution_count": null,
   "id": "6a1ade3d",
   "metadata": {},
   "outputs": [],
   "source": [
    "def get_type_label_tensor(label_tensor):\n",
    "    class_list = list('0123456789ABCDEFGHIJKLMabcdefghijklm')\n",
    "    label_to_class = {i: c for i, c in enumerate(class_list)}\n",
    "    \n",
    "    type_labels = []\n",
    "    for label in label_tensor:\n",
    "        char = label_to_class[int(label)]\n",
    "        if char.isdigit():\n",
    "            type_labels.append(0)\n",
    "        elif char.isupper():\n",
    "            type_labels.append(1)\n",
    "        else:\n",
    "            type_labels.append(2)\n",
    "    return torch.tensor(type_labels, dtype=torch.long)"
   ]
  },
  {
   "cell_type": "code",
   "execution_count": null,
   "id": "9fa091c1",
   "metadata": {},
   "outputs": [],
   "source": [
    "y_train_type = get_type_label_tensor(y_train)\n",
    "y_test_type = get_type_label_tensor(y_test)\n"
   ]
  },
  {
   "cell_type": "code",
   "execution_count": null,
   "id": "391d2ea1",
   "metadata": {},
   "outputs": [],
   "source": [
    "train_dataset = TensorDataset(X_train, y_train, y_train_type)\n",
    "test_dataset = TensorDataset(X_test, y_test, y_test_type)\n"
   ]
  },
  {
   "cell_type": "code",
   "execution_count": null,
   "id": "c8f7f98c",
   "metadata": {},
   "outputs": [],
   "source": [
    "# Beispielhafte Klasse-zu-Typ-Zuordnung: 0 = Groß, 1 = Klein, 2 = Ziffer\n",
    "def get_type_label_tensor(y):\n",
    "    type_labels = []\n",
    "    for label in y:\n",
    "        char = class_list[label]\n",
    "        if char.isdigit():\n",
    "            type_labels.append(2)\n",
    "        elif char.isupper():\n",
    "            type_labels.append(0)\n",
    "        else:\n",
    "            type_labels.append(1)\n",
    "    return torch.tensor(type_labels)"
   ]
  },
  {
   "cell_type": "code",
   "execution_count": null,
   "id": "bcbcbbbe",
   "metadata": {},
   "outputs": [],
   "source": [
    "\n"
   ]
  },
  {
   "cell_type": "code",
   "execution_count": null,
   "id": "c0d475d9",
   "metadata": {},
   "outputs": [],
   "source": [
    "class TypeClassifier(nn.Module):\n",
    "    def __init__(self):\n",
    "        super(TypeClassifier, self).__init__()\n",
    "        self.conv = nn.Sequential(\n",
    "            nn.Conv2d(1, 32, kernel_size=3, padding=1),\n",
    "            nn.ReLU(),\n",
    "            nn.MaxPool2d(2),\n",
    "            nn.Conv2d(32, 64, kernel_size=3, padding=1),\n",
    "            nn.ReLU(),\n",
    "            nn.MaxPool2d(2),\n",
    "        )\n",
    "        self.fc = nn.Sequential(\n",
    "            nn.Flatten(),\n",
    "            nn.Linear(64 * 7 * 7, 128),\n",
    "            nn.ReLU(),\n",
    "            nn.Dropout(0.5),\n",
    "            nn.Linear(128, 3)\n",
    "        )\n",
    "\n",
    "    def forward(self, x):\n",
    "        x = self.conv(x)\n",
    "        return F.softmax(self.fc(x), dim=1)\n",
    "\n"
   ]
  },
  {
   "cell_type": "code",
   "execution_count": null,
   "id": "1da19808",
   "metadata": {},
   "outputs": [],
   "source": [
    "class ModularClassifier(nn.Module):\n",
    "    def __init__(self, tm1, tm2, class_type_map):\n",
    "        super(ModularClassifier, self).__init__()\n",
    "        self.tm1 = tm1\n",
    "        self.tm2 = tm2\n",
    "        self.class_type_map = torch.tensor(class_type_map, dtype=torch.long)  # Länge 36\n",
    "\n",
    "    def forward(self, x):\n",
    "        out_cls = self.tm1(x)  # shape (B, 36)\n",
    "        out_type = self.tm2(x)  # shape (B, 3)\n",
    "\n",
    "        type_probs = out_type[:, self.class_type_map.to(x.device)]  # shape (B, 36)\n",
    "        final_out = out_cls * type_probs  # Elementweise Multiplikation\n",
    "\n",
    "        return final_out, out_cls, out_type\n"
   ]
  },
  {
   "cell_type": "code",
   "execution_count": null,
   "id": "8ff7ec0d",
   "metadata": {},
   "outputs": [
    {
     "ename": "AttributeError",
     "evalue": "'int' object has no attribute 'isdigit'",
     "output_type": "error",
     "traceback": [
      "\u001b[31m---------------------------------------------------------------------------\u001b[39m",
      "\u001b[31mAttributeError\u001b[39m                            Traceback (most recent call last)",
      "\u001b[36mCell\u001b[39m\u001b[36m \u001b[39m\u001b[32mIn[36]\u001b[39m\u001b[32m, line 4\u001b[39m\n\u001b[32m      2\u001b[39m class_type_map = []\n\u001b[32m      3\u001b[39m \u001b[38;5;28;01mfor\u001b[39;00m c \u001b[38;5;129;01min\u001b[39;00m class_list:\n\u001b[32m----> \u001b[39m\u001b[32m4\u001b[39m     \u001b[38;5;28;01mif\u001b[39;00m \u001b[43mc\u001b[49m\u001b[43m.\u001b[49m\u001b[43misdigit\u001b[49m():\n\u001b[32m      5\u001b[39m         class_type_map.append(\u001b[32m2\u001b[39m)\n\u001b[32m      6\u001b[39m     \u001b[38;5;28;01melif\u001b[39;00m c.isupper():\n",
      "\u001b[31mAttributeError\u001b[39m: 'int' object has no attribute 'isdigit'"
     ]
    }
   ],
   "source": [
    "# class_list = ['0', '1', ..., 'a', 'b', ...]\n",
    "class_type_map = []\n",
    "for c in class_list:\n",
    "    if c.isdigit():\n",
    "        class_type_map.append(2)\n",
    "    elif c.isupper():\n",
    "        class_type_map.append(0)\n",
    "    else:\n",
    "        class_type_map.append(1)\n",
    "\n"
   ]
  },
  {
   "cell_type": "code",
   "execution_count": null,
   "id": "567bee1b",
   "metadata": {},
   "outputs": [],
   "source": [
    "tm1 = ResNet18(num_classes=len(class_list))\n",
    "\n",
    "modular_model = ModularClassifier(\n",
    "    tm1,\n",
    "    tm2=TypeClassifier(),\n",
    "    class_type_map=class_type_map\n",
    ").to(device)\n",
    "\n",
    "criterion_cls = nn.CrossEntropyLoss()\n",
    "criterion_type = nn.CrossEntropyLoss()\n",
    "optimizer = torch.optim.Adam(modular_model.parameters(), lr=1e-3)\n"
   ]
  },
  {
   "cell_type": "code",
   "execution_count": null,
   "id": "9ce4c6de",
   "metadata": {},
   "outputs": [
    {
     "ename": "RuntimeError",
     "evalue": "The size of tensor a (36) must match the size of tensor b (0) at non-singleton dimension 1",
     "output_type": "error",
     "traceback": [
      "\u001b[31m---------------------------------------------------------------------------\u001b[39m",
      "\u001b[31mRuntimeError\u001b[39m                              Traceback (most recent call last)",
      "\u001b[36mCell\u001b[39m\u001b[36m \u001b[39m\u001b[32mIn[34]\u001b[39m\u001b[32m, line 10\u001b[39m\n\u001b[32m      7\u001b[39m labels_cls = labels_cls.to(device)\n\u001b[32m      8\u001b[39m labels_type = labels_type.to(device)\n\u001b[32m---> \u001b[39m\u001b[32m10\u001b[39m final_out, out_cls, out_type = \u001b[43mmodular_model\u001b[49m\u001b[43m(\u001b[49m\u001b[43mimages\u001b[49m\u001b[43m)\u001b[49m\n\u001b[32m     12\u001b[39m loss_cls = criterion_cls(out_cls, labels_cls)\n\u001b[32m     13\u001b[39m loss_type = criterion_type(out_type, labels_type)\n",
      "\u001b[36mFile \u001b[39m\u001b[32m~/ML2Modularbeit/env/lib/python3.12/site-packages/torch/nn/modules/module.py:1751\u001b[39m, in \u001b[36mModule._wrapped_call_impl\u001b[39m\u001b[34m(self, *args, **kwargs)\u001b[39m\n\u001b[32m   1749\u001b[39m     \u001b[38;5;28;01mreturn\u001b[39;00m \u001b[38;5;28mself\u001b[39m._compiled_call_impl(*args, **kwargs)  \u001b[38;5;66;03m# type: ignore[misc]\u001b[39;00m\n\u001b[32m   1750\u001b[39m \u001b[38;5;28;01melse\u001b[39;00m:\n\u001b[32m-> \u001b[39m\u001b[32m1751\u001b[39m     \u001b[38;5;28;01mreturn\u001b[39;00m \u001b[38;5;28;43mself\u001b[39;49m\u001b[43m.\u001b[49m\u001b[43m_call_impl\u001b[49m\u001b[43m(\u001b[49m\u001b[43m*\u001b[49m\u001b[43margs\u001b[49m\u001b[43m,\u001b[49m\u001b[43m \u001b[49m\u001b[43m*\u001b[49m\u001b[43m*\u001b[49m\u001b[43mkwargs\u001b[49m\u001b[43m)\u001b[49m\n",
      "\u001b[36mFile \u001b[39m\u001b[32m~/ML2Modularbeit/env/lib/python3.12/site-packages/torch/nn/modules/module.py:1762\u001b[39m, in \u001b[36mModule._call_impl\u001b[39m\u001b[34m(self, *args, **kwargs)\u001b[39m\n\u001b[32m   1757\u001b[39m \u001b[38;5;66;03m# If we don't have any hooks, we want to skip the rest of the logic in\u001b[39;00m\n\u001b[32m   1758\u001b[39m \u001b[38;5;66;03m# this function, and just call forward.\u001b[39;00m\n\u001b[32m   1759\u001b[39m \u001b[38;5;28;01mif\u001b[39;00m \u001b[38;5;129;01mnot\u001b[39;00m (\u001b[38;5;28mself\u001b[39m._backward_hooks \u001b[38;5;129;01mor\u001b[39;00m \u001b[38;5;28mself\u001b[39m._backward_pre_hooks \u001b[38;5;129;01mor\u001b[39;00m \u001b[38;5;28mself\u001b[39m._forward_hooks \u001b[38;5;129;01mor\u001b[39;00m \u001b[38;5;28mself\u001b[39m._forward_pre_hooks\n\u001b[32m   1760\u001b[39m         \u001b[38;5;129;01mor\u001b[39;00m _global_backward_pre_hooks \u001b[38;5;129;01mor\u001b[39;00m _global_backward_hooks\n\u001b[32m   1761\u001b[39m         \u001b[38;5;129;01mor\u001b[39;00m _global_forward_hooks \u001b[38;5;129;01mor\u001b[39;00m _global_forward_pre_hooks):\n\u001b[32m-> \u001b[39m\u001b[32m1762\u001b[39m     \u001b[38;5;28;01mreturn\u001b[39;00m \u001b[43mforward_call\u001b[49m\u001b[43m(\u001b[49m\u001b[43m*\u001b[49m\u001b[43margs\u001b[49m\u001b[43m,\u001b[49m\u001b[43m \u001b[49m\u001b[43m*\u001b[49m\u001b[43m*\u001b[49m\u001b[43mkwargs\u001b[49m\u001b[43m)\u001b[49m\n\u001b[32m   1764\u001b[39m result = \u001b[38;5;28;01mNone\u001b[39;00m\n\u001b[32m   1765\u001b[39m called_always_called_hooks = \u001b[38;5;28mset\u001b[39m()\n",
      "\u001b[36mCell\u001b[39m\u001b[36m \u001b[39m\u001b[32mIn[32]\u001b[39m\u001b[32m, line 13\u001b[39m, in \u001b[36mModularClassifier.forward\u001b[39m\u001b[34m(self, x)\u001b[39m\n\u001b[32m     10\u001b[39m out_type = \u001b[38;5;28mself\u001b[39m.tm2(x)  \u001b[38;5;66;03m# shape (B, 3)\u001b[39;00m\n\u001b[32m     12\u001b[39m type_probs = out_type[:, \u001b[38;5;28mself\u001b[39m.class_type_map.to(x.device)]  \u001b[38;5;66;03m# shape (B, 36)\u001b[39;00m\n\u001b[32m---> \u001b[39m\u001b[32m13\u001b[39m final_out = \u001b[43mout_cls\u001b[49m\u001b[43m \u001b[49m\u001b[43m*\u001b[49m\u001b[43m \u001b[49m\u001b[43mtype_probs\u001b[49m  \u001b[38;5;66;03m# Elementweise Multiplikation\u001b[39;00m\n\u001b[32m     15\u001b[39m \u001b[38;5;28;01mreturn\u001b[39;00m final_out, out_cls, out_type\n",
      "\u001b[31mRuntimeError\u001b[39m: The size of tensor a (36) must match the size of tensor b (0) at non-singleton dimension 1"
     ]
    }
   ],
   "source": [
    "for epoch in range(30):\n",
    "    modular_model.train()\n",
    "    total_loss = 0.0  # ✅ richtig initialisieren\n",
    "\n",
    "    for images, labels_cls, labels_type in train_loader:\n",
    "        images = images.to(device)\n",
    "        labels_cls = labels_cls.to(device)\n",
    "        labels_type = labels_type.to(device)\n",
    "\n",
    "        final_out, out_cls, out_type = modular_model(images)\n",
    "\n",
    "        loss_cls = criterion_cls(out_cls, labels_cls)\n",
    "        loss_type = criterion_type(out_type, labels_type)\n",
    "        loss = loss_cls + 0.5 * loss_type\n",
    "\n",
    "        optimizer.zero_grad()\n",
    "        loss.backward()\n",
    "        optimizer.step()\n",
    "\n",
    "        total_loss += loss.item()  # ✅ jetzt ist total_loss eine float\n",
    "\n",
    "    print(f\"Epoch {epoch+1}, Loss: {total_loss:.4f}\")\n",
    "\n",
    "\n"
   ]
  },
  {
   "cell_type": "code",
   "execution_count": null,
   "id": "64e2e7ea",
   "metadata": {},
   "outputs": [
    {
     "data": {
      "text/plain": [
       "[]"
      ]
     },
     "execution_count": 35,
     "metadata": {},
     "output_type": "execute_result"
    }
   ],
   "source": []
  },
  {
   "cell_type": "code",
   "execution_count": null,
   "id": "ff8fdf48",
   "metadata": {},
   "outputs": [
    {
     "data": {
      "text/plain": [
       "'4'"
      ]
     },
     "execution_count": 29,
     "metadata": {},
     "output_type": "execute_result"
    }
   ],
   "source": []
  }
 ],
 "metadata": {
  "kernelspec": {
   "display_name": "env",
   "language": "python",
   "name": "python3"
  },
  "language_info": {
   "codemirror_mode": {
    "name": "ipython",
    "version": 3
   },
   "file_extension": ".py",
   "mimetype": "text/x-python",
   "name": "python",
   "nbconvert_exporter": "python",
   "pygments_lexer": "ipython3",
   "version": "3.10.12"
  }
 },
 "nbformat": 4,
 "nbformat_minor": 5
}
